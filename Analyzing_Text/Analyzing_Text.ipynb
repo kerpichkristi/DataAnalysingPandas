{
  "cells": [
    {
      "cell_type": "markdown",
      "metadata": {
        "id": "MKesfofhZNf4"
      },
      "source": [
        "# Analysing Deltron 3030's *Deltron 3030*"
      ]
    },
    {
      "cell_type": "markdown",
      "metadata": {
        "id": "sf1Znq7pZnWp"
      },
      "source": [
        "<tr>\n",
        "    <td> <img src=\"https://logjampresents.com/wp-content/uploads/2017/06/Social-2-Deltron-3030.170907.jpg\" width=\"600\" height =\"350\"/> </td>\n",
        "\n",
        "</tr>\n",
        "\n",
        "\n",
        " "
      ]
    },
    {
      "cell_type": "markdown",
      "metadata": {
        "id": "BoWYvRPvcL4b"
      },
      "source": [
        "\n",
        "Del tha Funkee Homosapien often regarded as \"King of Oddball Rappers\" along with Automator, the Kool Keith and Kid Koala debuted as the supergroup Deltron 3030 with their [self-titled album](https://open.spotify.com/album/04uhhcjGVCHodMgZjXOlye?si=iiTGJm_fRwa8EM03rfVtLw). *Deltron 3030* is a rap opera concept album set in the year 3030 where corporate oligarchs suppress human rights and hip-hop. It stars a super hero Deltron-Z (or Deltron Zero) who traverses the galaxy \"supporting his secretive Earthling existence by participating in weird rap battles where one's rhymes summon psychic powers that physically damage the opponent\" ([pitchfork](https://https://pitchfork.com/reviews/albums/2272-deltron-3030/)). \n",
        "\n",
        "In this assignment, we will explore the lyrics of this space opera.\n",
        "\n",
        "\n",
        "Alternatively, if you would like to analyse a collection of texts of your own choosing (another album, set of news articles, film reviews, etc) you are most welcome to! But please modify the sub-questions as per your data, if necessary."
      ]
    },
    {
      "cell_type": "markdown",
      "metadata": {
        "id": "kDj2XgBzhQB9"
      },
      "source": [
        "##Data"
      ]
    },
    {
      "cell_type": "markdown",
      "metadata": {
        "id": "Bx2d7mNWhHDa"
      },
      "source": [
        "The data can be found under the folder \"<span style:=\"color:darkblue\">deltron</span>\". \n",
        "\n",
        "This folder is composed of files corresponding to the various songs and their lyrics in Deltron 3030's self titled album.\n",
        "\n",
        "We suggest having a look at this folder before proceeding.\n",
        "(and giving the album a listen perhaps during analysis :)\n",
        "\n",
        "FYI: This data was acquired from [Genius](https://genius.com) (Genius Lyrics) using their API."
      ]
    },
    {
      "cell_type": "markdown",
      "metadata": {
        "id": "-QJ6eNSNiYFp"
      },
      "source": [
        "## Exercises\n"
      ]
    },
    {
      "cell_type": "markdown",
      "metadata": {
        "id": "Df0E9z6bigVU"
      },
      "source": [
        "We would like to look through all the lyrics of the album *Deltron 3030* and be able to understand their characteristics. \n",
        "\n",
        "Write the outputs of your findings to the file \"results.txt\", where specified.\n",
        "\n",
        "Make your results as pretty as possible, and feel free to use tabs and enumeration."
      ]
    },
    {
      "cell_type": "markdown",
      "metadata": {
        "id": "_MmnPE6ZjBIR"
      },
      "source": [
        "1. Write a function that reads through the files in a directory. \n",
        "\n",
        "    *   Read through the deltron directory and all its contents.\n",
        "\n",
        "\n"
      ]
    },
    {
      "cell_type": "code",
      "execution_count": null,
      "metadata": {
        "id": "tDntf2kiZLyx"
      },
      "outputs": [],
      "source": [
        "import os\n",
        "import codecs\n",
        "\n",
        "\"\"\"Reading files from folder\"\"\"\n",
        "def ReadFile():\n",
        "  allText = []\n",
        "  for filename in os.listdir('deltron'):\n",
        "    with codecs.open(os.path.join(\"deltron\", filename),'r',\"utf_8_sig\") as f:\n",
        "      for lyrics in f.read().split('\\n'):\n",
        "        allText.append(lyrics)  \n",
        "  #print('\\n'.join(allText))\n",
        "  return('\\n'.join(allText).split('\\n')) \n",
        "\n",
        "ReadFile()"
      ]
    },
    {
      "cell_type": "markdown",
      "metadata": {
        "id": "fv3kPz9mjTxc"
      },
      "source": [
        "2. Perform text normalization on the lyrics. Text normalisation should include removal of\n",
        "\n",
        "    *   neccessary punctuations\n",
        "    *   lowercasing the lyrics\n",
        "    *   try removing [function words](https://https://en.wikipedia.org/wiki/Function_word)\n",
        "\n",
        "    *   remove meta-information (remember assignment 2)"
      ]
    },
    {
      "cell_type": "code",
      "execution_count": null,
      "metadata": {
        "id": "PFq7QQMPjcZO"
      },
      "outputs": [],
      "source": [
        "\n",
        "def NormalizationOnTheLyrics(text):\n",
        "    \"\"\"Remove punctuations\"\"\"\n",
        "    RemovePunctuations = []\n",
        "    for line in text:\n",
        "        RemovePunctuations.append(line.replace(',','').replace('\"','').replace('.','').replace(\"'\",''))\n",
        "    \n",
        "    \"\"\"Сonverting to lowercasing text\"\"\"\n",
        "    LowerCasingText = []\n",
        "    for line in RemovePunctuations: \n",
        "            LowerCasingText.append(line.lower())\n",
        "    \n",
        "    \"\"\"Remove function words\"\"\"\n",
        "    RemoveFunctionWords = []       \n",
        "    for line in LowerCasingText:\n",
        "        RemoveFunctionWords.append(line.replace(' the ',' ').replace(' a ',' ').replace(' an ',' ').replace(' and ',' ')\n",
        "                                    .replace(' but ',' ').replace(' for ',' ').replace(' so ',' ').replace(' since ',' ')\n",
        "                                    .replace(' as ',' ').replace(' in ',' ').replace(' for ',' ').replace(' to ',' ')\n",
        "                                    .replace(' be ',' ').replace(' or ',' ').replace(' at ',' ').replace(' of ',' ')\n",
        "                                    .replace(' is ',' ').replace(' you ',' ').replace(' with ',' ').replace(' your ',' ')\n",
        "                                    .replace(' my ',' ').replace(' its ',' ').replace(' it ',' '))\n",
        "    \n",
        "    \"\"\"Remove parentheses\"\"\"\n",
        "    RemoveMetaInformation = []\n",
        "    for line in RemoveFunctionWords:\n",
        "        for split in str(line).split('['):\n",
        "            for char in str(split).split(']'):\n",
        "                continue\n",
        "            RemoveMetaInformation.append(char)\n",
        "\n",
        "    \"\"\"Remove braces\"\"\"\n",
        "    RemoveRestOfMetaInformation = []\n",
        "    for line in RemoveMetaInformation:\n",
        "        for split in str(line).split('{'):\n",
        "            for char in str(split).split('}'):\n",
        "                continue\n",
        "            RemoveRestOfMetaInformation.append(char)\n",
        "    \n",
        "    #print('\\n'.join(RemoveRestOfMetaInformation))\n",
        "    return(\"\\n\".join(RemoveRestOfMetaInformation).split('\\n'))\n",
        "text = ReadFile()\n",
        "NormalizationOnTheLyrics(text)\n"
      ]
    },
    {
      "cell_type": "markdown",
      "metadata": {
        "id": "7f3oybV4ZMfl"
      },
      "source": [
        "3. Write a function that returns some statistics about the album Deltron 3030's song lyrics:\n",
        "\n",
        "    * Most frequent words\n",
        "    * Type to token ratio (unique words/words)\n",
        "    * Longest and shortests songs (by lyrics)\n",
        "    * What are the songs with the largest vocabulary and shortest vocabulary?\n",
        "    \n",
        "   Write these statistics for **every song** and for the **entire album** to a file \"results.txt\". \n",
        "   \n",
        "    * Write down your interpretation of these results in this notebook.  \n",
        "    * This is a particularly verbose album. Do you agree? Back it with some evidence.\n",
        "    * Which songs are the most verbose and is there a pattern? "
      ]
    },
    {
      "cell_type": "code",
      "execution_count": null,
      "metadata": {
        "id": "5NjPUvH-2wNP"
      },
      "outputs": [],
      "source": [
        "\n",
        "\n",
        "file = open('results.txt','w')\n",
        "\n",
        "print(\"Statistics for the entire album\") \n",
        "file.write(\"Statistics for the entire album\\n\")\n",
        "\n",
        "\"\"\"Most frequent words\"\"\"\n",
        "def MostFrequentWords(text):\n",
        "    from collections import Counter\n",
        "    split_it = str(text).split()\n",
        "    Counter = Counter(split_it)\n",
        "    Most_occur = Counter.most_common(200)\n",
        "    print(\"Most frequent words ('Word', Number of repetitions)\\n\")\n",
        "    file.write(\"\\nMost frequent words ('Word', Number of repetitions)\\n\\n\")\n",
        "    print(Most_occur,\"\\n\")\n",
        "    file.write(str(Most_occur))\n",
        "    file.write('\\n')\n",
        "    return(Most_occur)\n",
        "\n",
        "\"\"\"Unique words\"\"\"\n",
        "def UniqueWords(text):\n",
        "    from collections import Counter\n",
        "    split_it = str(text).split()\n",
        "    Counter = Counter(split_it)\n",
        "    GetAllWords = Counter.most_common(2000)\n",
        "    UniqueWords = list(reversed(GetAllWords))[:len(GetAllWords)-1800]\n",
        "    print(\"Unique words ('Word', Number of repetitions)\\n\")\n",
        "    file.write(\"\\n\\nUnique words ('Word', Number of repetitions)\\n\\n\")\n",
        "    print(UniqueWords,\"\\n\")\n",
        "    file.write(str(UniqueWords))\n",
        "    file.write(\"\\n\")\n",
        "    return(UniqueWords)\n",
        "\n",
        "\"\"\"Shortest song\"\"\"\n",
        "def ShortestSong():\n",
        "    print(\"Shortest song\\n\")\n",
        "    file.write(\"\\n\\nShortest song\\n\\n\")\n",
        "    LenthOfSongs = []\n",
        "    for filename in os.listdir('deltron'):\n",
        "        with codecs.open(os.path.join(\"deltron\", filename),'r',\"utf_8_sig\") as f:\n",
        "            LenthOfSongs.append(len(f.read()))\n",
        "    ShortestSong = min(LenthOfSongs)\n",
        "    \n",
        "    for filename in os.listdir('deltron'):\n",
        "        with codecs.open(os.path.join(\"deltron\", filename),'r',\"utf_8_sig\") as f:\n",
        "            lenth = len(f.read())\n",
        "            if ShortestSong == lenth:\n",
        "                ShortestSongName = filename\n",
        "                \n",
        "    print(ShortestSong, ShortestSongName)\n",
        "    file.write(ShortestSongName)\n",
        "    file.write('\\t') \n",
        "    file.write(str(ShortestSong))  \n",
        "\n",
        "\"\"\"Longest song\"\"\"\n",
        "def LongestSong():\n",
        "    print(\"Longest song\\n\")\n",
        "    file.write(\"\\n\\nLongest song\\n\\n\")\n",
        "    LenthOfSongs = []\n",
        "    for filename in os.listdir('deltron'):\n",
        "        with codecs.open(os.path.join(\"deltron\", filename),'r',\"utf_8_sig\") as f:\n",
        "            LenthOfSongs.append(len(f.read()))\n",
        "    LongestSong = max(LenthOfSongs)  \n",
        "    \n",
        "    for filename in os.listdir('deltron'):\n",
        "        with codecs.open(os.path.join(\"deltron\", filename),'r',\"utf_8_sig\") as f:\n",
        "            lenth = len(f.read())\n",
        "            if LongestSong == lenth:\n",
        "                LongestSongName = filename\n",
        "            \n",
        "    print(LongestSong, LongestSongName )\n",
        "    file.write(LongestSongName)\n",
        "    file.write('\\t') \n",
        "    file.write(str(LongestSong))\n",
        "      \n",
        "\n",
        "\"\"\"Song with largest vocabulary\"\"\"\n",
        "def SongWithLargestVoc():\n",
        "    import codecs\n",
        "    print(\"Song with largest vocabulary\\n\")\n",
        "    file.write(\"\\n\\nSong with largest vocabulary\\n\\n\")\n",
        "    LenthOfVoc = []\n",
        "    for filename in os.listdir('deltron'):\n",
        "        SongText = []\n",
        "        with codecs.open(os.path.join(\"deltron\", filename),'r',\"utf_8_sig\") as f:\n",
        "            for lyrics in f.read().split(' '):\n",
        "                SongText.append(lyrics)\n",
        "        LenthOfVoc.append(len(SongText))           \n",
        "    LongestVoc = max(LenthOfVoc)\n",
        " \n",
        "    for filename in os.listdir('deltron'):\n",
        "        SongText = []\n",
        "        with codecs.open(os.path.join(\"deltron\", filename),'r',\"utf_8_sig\") as f:\n",
        "            for lyrics in f.read().split(' '):\n",
        "                SongText.append(lyrics)\n",
        "        LenthOfVoc = len(SongText)\n",
        "        if  LongestVoc == LenthOfVoc:\n",
        "            LongestSongName = filename\n",
        "    \n",
        "    print(LongestVoc, LongestSongName )\n",
        "    file.write(LongestSongName)\n",
        "    file.write('\\t') \n",
        "    file.write(str(LongestVoc))        \n",
        "    \n",
        "\"\"\"Song with shortest vocabulary\"\"\"\n",
        "def SongWithShortestVoc():\n",
        "    import codecs\n",
        "    print(\"Song with shortest vocabularyn\")\n",
        "    file.write(\"\\n\\nSong with shortest vocabulary\\n\\n\")\n",
        "    LenthOfVoc = []\n",
        "    for filename in os.listdir('deltron'):\n",
        "        SongText = []\n",
        "        with codecs.open(os.path.join(\"deltron\", filename),'r',\"utf_8_sig\") as f:\n",
        "            for lyrics in f.read().split(' '):\n",
        "                SongText.append(lyrics)\n",
        "        LenthOfVoc.append(len(SongText))           \n",
        "    ShortestVoc = min(LenthOfVoc)\n",
        " \n",
        "    for filename in os.listdir('deltron'):\n",
        "        SongText = []\n",
        "        with codecs.open(os.path.join(\"deltron\", filename),'r',\"utf_8_sig\") as f:\n",
        "            for lyrics in f.read().split(' '):\n",
        "                SongText.append(lyrics)\n",
        "        LenthOfVoc = len(SongText)\n",
        "        if  ShortestVoc == LenthOfVoc:\n",
        "            ShortestSongName = filename\n",
        "    \n",
        "    print(ShortestVoc, ShortestSongName )\n",
        "    file.write(ShortestSongName)\n",
        "    file.write('\\t') \n",
        "    file.write(str(ShortestVoc)) \n",
        "\n",
        "\n",
        "text = ReadFile()\n",
        "normaltext = NormalizationOnTheLyrics(text)\n",
        "MostFrequentWords(normaltext)\n",
        "UniqueWords(normaltext)\n",
        "ShortestSong()\n",
        "LongestSong()\n",
        "SongWithShortestVoc()\n",
        "SongWithLargestVoc()\n",
        "\n",
        "\"\"\"Most frequent words for One Song\"\"\"\n",
        "def MostFrequentWordsForOneSong(text):\n",
        "    from collections import Counter\n",
        "    split_it = str(text).split()\n",
        "    Counter = Counter(split_it)\n",
        "    Most_occur = Counter.most_common(5)\n",
        "    print(\"Most frequent words ('Word', Number of repetitions)\\n\")\n",
        "    file.write(\"\\nMost frequent words ('Word', Number of repetitions)\\n\\n\")\n",
        "    print(Most_occur,\"\\n\")\n",
        "    file.write(str(Most_occur))\n",
        "    file.write('\\n')\n",
        "    return(Most_occur)\n",
        "\n",
        "\"\"\"Unique words for One Song\"\"\"\n",
        "def UniqueWordsForOneSong(text):\n",
        "    from collections import Counter\n",
        "    split_it = str(text).split()\n",
        "    Counter = Counter(split_it)\n",
        "    GetAllWords = Counter.most_common(5)\n",
        "    UniqueWords = list(reversed(GetAllWords))\n",
        "    print(\"Unique words ('Word', Number of repetitions)\\n\")\n",
        "    file.write(\"\\n\\nUnique words ('Word', Number of repetitions)\\n\\n\")\n",
        "    print(UniqueWords,\"\\n\")\n",
        "    file.write(str(UniqueWords))\n",
        "    file.write(\"\\n\")\n",
        "    return(UniqueWords)\n",
        "\n",
        "\"\"\"Song lenth\"\"\"\n",
        "def SongLenth(filename):\n",
        "    print(\"Song lenth\\n\")\n",
        "    file.write(\"\\n\\nSong lenth\\n\\n\")\n",
        "    LenthOfSongs = []\n",
        "    \n",
        "    with codecs.open(os.path.join(\"deltron\", filename),'r',\"utf_8_sig\") as f:\n",
        "        LenthOfSongs.append(len(f.read()))\n",
        "    ShortestSong = min(LenthOfSongs)\n",
        "    \n",
        "    with codecs.open(os.path.join(\"deltron\", filename),'r',\"utf_8_sig\") as f:\n",
        "        lenth = len(f.read())\n",
        "        if ShortestSong == lenth:\n",
        "            ShortestSongName = filename\n",
        "                \n",
        "    print(ShortestSong, ShortestSongName)\n",
        "    file.write('\\t') \n",
        "    file.write(str(ShortestSong))  \n",
        "\n",
        "    \n",
        "\"\"\"Song vocabulary\"\"\"\n",
        "def SongVoc(filename):\n",
        "    import codecs\n",
        "    print(\"Song vocabulary\")\n",
        "    file.write(\"\\n\\nSong vocabulary\\n\\n\")\n",
        "    LenthOfVoc = []\n",
        "    SongText = []\n",
        "    with codecs.open(os.path.join(\"deltron\", filename),'r',\"utf_8_sig\") as f:\n",
        "        for lyrics in f.read().split(' '):\n",
        "            SongText.append(lyrics)\n",
        "    LenthOfVoc.append(len(SongText))           \n",
        "    ShortestVoc = min(LenthOfVoc)\n",
        " \n",
        "    SongText = []\n",
        "    with codecs.open(os.path.join(\"deltron\", filename),'r',\"utf_8_sig\") as f:\n",
        "        for lyrics in f.read().split(' '):\n",
        "            SongText.append(lyrics)\n",
        "    LenthOfVoc = len(SongText)\n",
        "    if  ShortestVoc == LenthOfVoc:\n",
        "        ShortestSongName = filename\n",
        "    \n",
        "    print(ShortestVoc, ShortestSongName )\n",
        "    file.write('\\t') \n",
        "    file.write(str(ShortestVoc)) \n",
        "\n",
        "def ReadOneFile(filename):\n",
        "    allText = []\n",
        "    with codecs.open(os.path.join(\"deltron\", filename),'r',\"utf_8_sig\") as f:\n",
        "        for lyrics in f.read().split('\\n'):\n",
        "            allText.append(lyrics)  \n",
        "    return('\\n'.join(allText).split('\\n')) \n",
        "\n",
        "print(\"\\n\\nStatistics for every song\\n\") \n",
        "file.write(\"\\n\\n\\n\\nStatistics for every song\\n\\n\\n\")\n",
        "\n",
        "def StatisticsForEverySong():\n",
        "    for filename in os.listdir('deltron'):\n",
        "        file.write(\"\\n\\n\")\n",
        "        file.write(\"#####\")\n",
        "        file.write(filename)\n",
        "        file.write(\"#####\")\n",
        "        file.write(\"\\n\")\n",
        "        text = ReadOneFile(filename)\n",
        "        normaltext = NormalizationOnTheLyrics(text)\n",
        "        MostFrequentWordsForOneSong(normaltext)\n",
        "        UniqueWordsForOneSong(normaltext)\n",
        "        SongLenth(filename)\n",
        "        SongVoc(filename)\n",
        "\n",
        "StatisticsForEverySong()\n",
        "\n"
      ]
    },
    {
      "cell_type": "markdown",
      "metadata": {
        "id": "xiEWzcOQ1PNb"
      },
      "source": [
        "4. For all the lyrics in the album, construct a word cloud.\n",
        "\n",
        "    *   You just need to reassign the variable 'frequencies' in the code below to a dictionary of word frequencies (or Counter) in Deltron 3030/your selected corpus. Try to use an output from one of the functions above."
      ]
    },
    {
      "cell_type": "code",
      "execution_count": null,
      "metadata": {
        "id": "kvkn2IgH1bAn"
      },
      "outputs": [],
      "source": [
        "import matplotlib.pyplot as plt\n",
        "from wordcloud import WordCloud\n",
        "from collections import Counter\n",
        "\n",
        "text = ReadFile()\n",
        "split_it = str(text).split()\n",
        "Counter = Counter(split_it)\n",
        "Most_occur = Counter.most_common(200)\n",
        "\n",
        "wordcloud = WordCloud()\n",
        "wordcloud.generate_from_frequencies(Most_occur)\n",
        "plt.figure()\n",
        "plt.imshow(wordcloud, interpolation=\"bilinear\")\n",
        "plt.axis(\"off\")\n",
        "plt.show()"
      ]
    }
  ],
  "metadata": {
    "colab": {
      "collapsed_sections": [],
      "name": "CtH_Individual_Assignment.ipynb",
      "provenance": []
    },
    "kernelspec": {
      "display_name": "Python 3",
      "name": "python3"
    },
    "language_info": {
      "codemirror_mode": {
        "name": "ipython",
        "version": 3
      },
      "file_extension": ".py",
      "mimetype": "text/x-python",
      "name": "python",
      "nbconvert_exporter": "python",
      "pygments_lexer": "ipython3",
      "version": "3.10.0"
    }
  },
  "nbformat": 4,
  "nbformat_minor": 0
}
